{
  "nbformat": 4,
  "nbformat_minor": 0,
  "metadata": {
    "colab": {
      "provenance": [],
      "include_colab_link": true
    },
    "kernelspec": {
      "name": "python3",
      "display_name": "Python 3"
    },
    "language_info": {
      "name": "python"
    }
  },
  "cells": [
    {
      "cell_type": "markdown",
      "metadata": {
        "id": "view-in-github",
        "colab_type": "text"
      },
      "source": [
        "<a href=\"https://colab.research.google.com/github/melder2/MLA_MRE/blob/main/MLA5_MRE.ipynb\" target=\"_parent\"><img src=\"https://colab.research.google.com/assets/colab-badge.svg\" alt=\"Open In Colab\"/></a>"
      ]
    },
    {
      "cell_type": "markdown",
      "source": [
        "\n",
        "# Machine Learning Assignment #  \n",
        "**Michael Elder**  "
      ],
      "metadata": {
        "id": "QRwWxyo15l1_"
      }
    },
    {
      "cell_type": "markdown",
      "source": [
        "## Standard Imports"
      ],
      "metadata": {
        "id": "Dm3plw0g3ZvL"
      }
    },
    {
      "cell_type": "code",
      "execution_count": 2,
      "metadata": {
        "id": "hZQOlQVuibFq"
      },
      "outputs": [],
      "source": [
        "import pandas as pd\n",
        "import numpy as np\n",
        "import matplotlib.pyplot as plt\n",
        "import seaborn as sns\n",
        "%matplotlib inline"
      ]
    },
    {
      "cell_type": "code",
      "source": [
        "from google.colab import drive\n",
        "drive.mount('/content/gdrive')"
      ],
      "metadata": {
        "colab": {
          "base_uri": "https://localhost:8080/"
        },
        "id": "f6C2m_xqin0Y",
        "outputId": "1d582dff-72b5-4432-a767-18572843809b"
      },
      "execution_count": 4,
      "outputs": [
        {
          "output_type": "stream",
          "name": "stdout",
          "text": [
            "Mounted at /content/gdrive\n"
          ]
        }
      ]
    },
    {
      "cell_type": "markdown",
      "source": [
        "## Imports for specific models\n",
        "In this section, you will import the models from SKLearn that you will use this in this notebook. "
      ],
      "metadata": {
        "id": "UM7SiWOlBzPg"
      }
    },
    {
      "cell_type": "code",
      "source": [
        "from sklearn.ensemble import VotingClassifier\n",
        "from sklearn.ensemble import BaggingClassifier\n",
        "from sklearn.ensemble import RandomForestClassifier\n",
        "from sklearn.ensemble import AdaBoostClassifier\n",
        "\n",
        "#example - you will replace this with the models you are actually using.\n",
        "from sklearn.neighbors import KNeighborsClassifier\n",
        "from sklearn.linear_model import LogisticRegression\n",
        "from sklearn.svm import SVC\n",
        "from sklearn.tree import DecisionTreeClassifier"
      ],
      "metadata": {
        "id": "jL7htbaoB6Ek"
      },
      "execution_count": 3,
      "outputs": []
    },
    {
      "cell_type": "markdown",
      "source": [
        "## Imports for Splitting Data and Building Pipeline\n"
      ],
      "metadata": {
        "id": "-5Akp3i4CPFj"
      }
    },
    {
      "cell_type": "code",
      "source": [
        "from sklearn.model_selection import train_test_split\n",
        "\n",
        "from sklearn.pipeline import Pipeline\n",
        "from sklearn import set_config\n",
        "set_config(display='diagram')\n",
        "\n",
        "from sklearn.compose import ColumnTransformer\n",
        "from sklearn.preprocessing import MinMaxScaler\n",
        "from sklearn.preprocessing import OneHotEncoder"
      ],
      "metadata": {
        "id": "RPkp1dlKqLOT"
      },
      "execution_count": 4,
      "outputs": []
    },
    {
      "cell_type": "markdown",
      "source": [
        "# Imports for Performance Measures"
      ],
      "metadata": {
        "id": "JW9kgAGwpww3"
      }
    },
    {
      "cell_type": "code",
      "source": [
        "from sklearn.metrics import confusion_matrix\n",
        "from sklearn.metrics import precision_score, recall_score, f1_score\n",
        "from sklearn.metrics import roc_curve\n",
        "from sklearn.metrics import roc_auc_score\n",
        "from sklearn.metrics import r2_score\n",
        "from sklearn.metrics import mean_squared_error\n",
        "from sklearn.metrics import precision_recall_curve\n",
        "from sklearn.metrics import auc\n",
        "from sklearn.metrics import classification_report\n",
        "from sklearn.metrics import ConfusionMatrixDisplay"
      ],
      "metadata": {
        "id": "N4WwSQlNpw7c"
      },
      "execution_count": 5,
      "outputs": []
    },
    {
      "cell_type": "markdown",
      "source": [
        "## Confusion Matrix Function\n",
        "This function is for creating a graphical version of the confusion matrix.\n",
        "\n"
      ],
      "metadata": {
        "id": "pWcDpHz0qF_J"
      }
    },
    {
      "cell_type": "code",
      "source": [
        "def plot_cm(y_test, y_pred):\n",
        "    cm = confusion_matrix(y_test,y_pred)\n",
        "    fig = plt.figure(figsize=(10,10))\n",
        "    heatmap = sns.heatmap(cm, annot=True, fmt='.2f', cmap='RdYlGn')\n",
        "    plt.ylabel('True label')\n",
        "    plt.xlabel('Predicted Label')"
      ],
      "metadata": {
        "id": "UyWroVXvp2ZD"
      },
      "execution_count": 6,
      "outputs": []
    },
    {
      "cell_type": "markdown",
      "source": [
        "# ROC_Curve Function\n",
        "This function is for plotting the roc_curve"
      ],
      "metadata": {
        "id": "fYHTxcJYqGcP"
      }
    },
    {
      "cell_type": "code",
      "source": [
        "def plot_roc_curve(fpr,tpr):\n",
        "  plt.plot(fpr, tpr, linewidth=2)\n",
        "  plt.plot([0,1],[0,1], 'k--')\n",
        "  plt.xlim([0.0, 1.0])\n",
        "  plt.ylim([0.0, 1.0])"
      ],
      "metadata": {
        "id": "DSTtrdx0qFAU"
      },
      "execution_count": 7,
      "outputs": []
    },
    {
      "cell_type": "markdown",
      "source": [
        "## Problem 1"
      ],
      "metadata": {
        "id": "9zzzkwxa3ncK"
      }
    },
    {
      "cell_type": "markdown",
      "source": [
        "### Reading the Data"
      ],
      "metadata": {
        "id": "PbtwGYpbDQyy"
      }
    },
    {
      "cell_type": "code",
      "source": [
        "landsat_train = pd.read_csv('/content/gdrive/MyDrive/CS430/landsat_train.csv')\n",
        "landsat_test = pd.read_csv('/content/gdrive/MyDrive/CS430/landsat_test.csv')"
      ],
      "metadata": {
        "id": "VeXp3BJMEJu-"
      },
      "execution_count": 5,
      "outputs": []
    },
    {
      "cell_type": "markdown",
      "source": [
        "### Statistical and Visual Exploration"
      ],
      "metadata": {
        "id": "HYTANYVkDbyh"
      }
    },
    {
      "cell_type": "code",
      "source": [
        "landTrain = pd.Series(landsat_train.land_type.groupby(landsat_train.land_type).count())\n",
        "print(landTrain)\n",
        "landTrain.plot(kind='barh', figsize=(10,5))"
      ],
      "metadata": {
        "colab": {
          "base_uri": "https://localhost:8080/",
          "height": 601
        },
        "id": "lf4zeKXaQZHX",
        "outputId": "ff3eee95-7134-4019-86ec-02aa976e6532"
      },
      "execution_count": 9,
      "outputs": [
        {
          "output_type": "stream",
          "name": "stdout",
          "text": [
            "land_type\n",
            "1    1072\n",
            "2     479\n",
            "3     961\n",
            "4     415\n",
            "5     470\n",
            "7    1038\n",
            "Name: land_type, dtype: int64\n"
          ]
        },
        {
          "output_type": "execute_result",
          "data": {
            "text/plain": [
              "<Axes: ylabel='land_type'>"
            ]
          },
          "metadata": {},
          "execution_count": 9
        },
        {
          "output_type": "display_data",
          "data": {
            "text/plain": [
              "<Figure size 1000x500 with 1 Axes>"
            ],
            "image/png": "[encoded data removed]"
          },
          "metadata": {}
        }
      ]
    },
    {
      "cell_type": "code",
      "source": [
        "landTest = pd.Series(landsat_test.land_type.groupby(landsat_test.land_type).count())\n",
        "print(landTest)\n",
        "landTest.plot(kind='barh', figsize=(10,5))"
      ],
      "metadata": {
        "colab": {
          "base_uri": "https://localhost:8080/",
          "height": 601
        },
        "outputId": "98f98ad1-29ef-4dec-e63a-44e71b6938c7",
        "id": "s1078i2bIKiT"
      },
      "execution_count": 10,
      "outputs": [
        {
          "output_type": "stream",
          "name": "stdout",
          "text": [
            "land_type\n",
            "1    461\n",
            "2    224\n",
            "3    397\n",
            "4    211\n",
            "5    237\n",
            "7    470\n",
            "Name: land_type, dtype: int64\n"
          ]
        },
        {
          "output_type": "execute_result",
          "data": {
            "text/plain": [
              "<Axes: ylabel='land_type'>"
            ]
          },
          "metadata": {},
          "execution_count": 10
        },
        {
          "output_type": "display_data",
          "data": {
            "text/plain": [
              "<Figure size 1000x500 with 1 Axes>"
            ],
            "image/png": "[encoded data removed]"
          },
          "metadata": {}
        }
      ]
    },
    {
      "cell_type": "markdown",
      "source": [
        "### Splitting Data into Train/Test"
      ],
      "metadata": {
        "id": "FhtpEB4SEzSx"
      }
    },
    {
      "cell_type": "code",
      "source": [
        "landsat_train.dtypes"
      ],
      "metadata": {
        "colab": {
          "base_uri": "https://localhost:8080/"
        },
        "id": "C3k8mAg0J9zr",
        "outputId": "1cea05c5-ceb7-46fd-af5d-34d15208c11d"
      },
      "execution_count": 11,
      "outputs": [
        {
          "output_type": "execute_result",
          "data": {
            "text/plain": [
              "top_left_r              int64\n",
              "top_left_g              int64\n",
              "top_left_infra1         int64\n",
              "top_left_infra2         int64\n",
              "top_middle_r            int64\n",
              "top_middle_g            int64\n",
              "top_middle_infra1       int64\n",
              "top_middle_infra2       int64\n",
              "top_right_r             int64\n",
              "top_right_g             int64\n",
              "top_right_infra1        int64\n",
              "top_right_infra2        int64\n",
              "middle_left_r           int64\n",
              "middle_left_g           int64\n",
              "middle_left_infra1      int64\n",
              "middle_left_infra2      int64\n",
              "central_pixel_r         int64\n",
              "central_pixel_g         int64\n",
              "central_pixel_infra1    int64\n",
              "central_pixel_infra2    int64\n",
              "middle_right_r          int64\n",
              "middle_right_g          int64\n",
              "middle_right_infra1     int64\n",
              "middle_right_infra2     int64\n",
              "bottom_left_r           int64\n",
              "bottom_left_g           int64\n",
              "bottom_left_infra1      int64\n",
              "bottom_left_infra2      int64\n",
              "bottom_middle_r         int64\n",
              "bottom_middle_g         int64\n",
              "bottom_middle_infra1    int64\n",
              "bottom_middle_infra2    int64\n",
              "bottom_right_r          int64\n",
              "bottom_right_g          int64\n",
              "bottom_right_infra1     int64\n",
              "bottom_right_infra2     int64\n",
              "land_type               int64\n",
              "dtype: object"
            ]
          },
          "metadata": {},
          "execution_count": 11
        }
      ]
    },
    {
      "cell_type": "code",
      "source": [
        "landsat_test.dtypes"
      ],
      "metadata": {
        "colab": {
          "base_uri": "https://localhost:8080/"
        },
        "id": "UOzFUuRqLx7Q",
        "outputId": "3dc3501a-aedf-40e4-d1d6-aaef5774f85b"
      },
      "execution_count": 12,
      "outputs": [
        {
          "output_type": "execute_result",
          "data": {
            "text/plain": [
              "top_left_r              int64\n",
              "top_left_g              int64\n",
              "top_left_infra1         int64\n",
              "top_left_infra2         int64\n",
              "top_middle_r            int64\n",
              "top_middle_g            int64\n",
              "top_middle_infra1       int64\n",
              "top_middle_infra2       int64\n",
              "top_right_r             int64\n",
              "top_right_g             int64\n",
              "top_right_infra1        int64\n",
              "top_right_infra2        int64\n",
              "middle_left_r           int64\n",
              "middle_left_g           int64\n",
              "middle_left_infra1      int64\n",
              "middle_left_infra2      int64\n",
              "central_pixel_r         int64\n",
              "central_pixel_g         int64\n",
              "central_pixel_infra1    int64\n",
              "central_pixel_infra2    int64\n",
              "middle_right_r          int64\n",
              "middle_right_g          int64\n",
              "middle_right_infra1     int64\n",
              "middle_right_infra2     int64\n",
              "bottom_left_r           int64\n",
              "bottom_left_g           int64\n",
              "bottom_left_infra1      int64\n",
              "bottom_left_infra2      int64\n",
              "bottom_middle_r         int64\n",
              "bottom_middle_g         int64\n",
              "bottom_middle_infra1    int64\n",
              "bottom_middle_infra2    int64\n",
              "bottom_right_r          int64\n",
              "bottom_right_g          int64\n",
              "bottom_right_infra1     int64\n",
              "bottom_right_infra2     int64\n",
              "land_type               int64\n",
              "dtype: object"
            ]
          },
          "metadata": {},
          "execution_count": 12
        }
      ]
    },
    {
      "cell_type": "code",
      "source": [
        "X_train = landsat_train.iloc[:,:-1]\n",
        "X_test = landsat_test.iloc[:,:-1]\n",
        "y_train = landsat_train.land_type\n",
        "y_test = landsat_test.land_type"
      ],
      "metadata": {
        "id": "M7CJYUe-KXzS"
      },
      "execution_count": 13,
      "outputs": []
    },
    {
      "cell_type": "markdown",
      "source": [
        "### Building the Pipeline"
      ],
      "metadata": {
        "id": "jPvXk_mdEJdg"
      }
    },
    {
      "cell_type": "code",
      "source": [
        "num_attribs = ['top_left_r',             \n",
        "'top_left_g',              \n",
        "'top_left_infra1',         \n",
        "'top_left_infra2',         \n",
        "'top_middle_r',            \n",
        "'top_middle_g',            \n",
        "'top_middle_infra1',       \n",
        "'top_middle_infra2',       \n",
        "'top_right_r',             \n",
        "'top_right_g',             \n",
        "'top_right_infra1',        \n",
        "'top_right_infra2',        \n",
        "'middle_left_r',           \n",
        "'middle_left_g',           \n",
        "'middle_left_infra1',      \n",
        "'middle_left_infra2',      \n",
        "'central_pixel_r',         \n",
        "'central_pixel_g',         \n",
        "'central_pixel_infra1',    \n",
        "'central_pixel_infra2',    \n",
        "'middle_right_r',          \n",
        "'middle_right_g',          \n",
        "'middle_right_infra1',     \n",
        "'middle_right_infra2',     \n",
        "'bottom_left_r',           \n",
        "'bottom_left_g',           \n",
        "'bottom_left_infra1',      \n",
        "'bottom_left_infra2',      \n",
        "'bottom_middle_r',         \n",
        "'bottom_middle_g',         \n",
        "'bottom_middle_infra1',    \n",
        "'bottom_middle_infra2',    \n",
        "'bottom_right_r',          \n",
        "'bottom_right_g',          \n",
        "'bottom_right_infra1',     \n",
        "'bottom_right_infra2']"
      ],
      "metadata": {
        "id": "zMglV-U5NCkz"
      },
      "execution_count": 14,
      "outputs": []
    },
    {
      "cell_type": "code",
      "source": [
        "col_transform = ColumnTransformer(transformers=[\n",
        "    \n",
        "    ('num', MinMaxScaler(), num_attribs)],\n",
        "    remainder='passthrough'\n",
        ")"
      ],
      "metadata": {
        "id": "9xVKSRx2aHa9"
      },
      "execution_count": 15,
      "outputs": []
    },
    {
      "cell_type": "code",
      "source": [
        "pipeline = Pipeline([\n",
        "    ('transform', col_transform),\n",
        "    ('rf', RandomForestClassifier(n_estimators=1000,\n",
        "                                  max_samples=500,\n",
        "                                  bootstrap=True,\n",
        "                                  oob_score=True,\n",
        "                                  n_jobs=-1))\n",
        "    \n",
        "])"
      ],
      "metadata": {
        "id": "7qqBsUEjRlol"
      },
      "execution_count": 16,
      "outputs": []
    },
    {
      "cell_type": "markdown",
      "source": [
        "### Executing the Model"
      ],
      "metadata": {
        "id": "8vSidC97Jbx2"
      }
    },
    {
      "cell_type": "code",
      "source": [
        "pipeline.fit(X_train, y_train.values.ravel())"
      ],
      "metadata": {
        "colab": {
          "base_uri": "https://localhost:8080/",
          "height": 191
        },
        "id": "XBzSwOulUj4O",
        "outputId": "b8b8595a-dfe1-4acb-afb8-d20c0dec514e"
      },
      "execution_count": 17,
      "outputs": [
        {
          "output_type": "execute_result",
          "data": {
            "text/plain": [
              "Pipeline(steps=[('transform',\n",
              "                 ColumnTransformer(remainder='passthrough',\n",
              "                                   transformers=[('num', MinMaxScaler(),\n",
              "                                                  ['top_left_r', 'top_left_g',\n",
              "                                                   'top_left_infra1',\n",
              "                                                   'top_left_infra2',\n",
              "                                                   'top_middle_r',\n",
              "                                                   'top_middle_g',\n",
              "                                                   'top_middle_infra1',\n",
              "                                                   'top_middle_infra2',\n",
              "                                                   'top_right_r', 'top_right_g',\n",
              "                                                   'top_right_infra1',\n",
              "                                                   'top_right_infra2',\n",
              "                                                   'middle_left_r',\n",
              "                                                   'middle_left_g',\n",
              "                                                   'middle_left...\n",
              "                                                   'central_pixel_g',\n",
              "                                                   'central_pixel_infra1',\n",
              "                                                   'central_pixel_infra2',\n",
              "                                                   'middle_right_r',\n",
              "                                                   'middle_right_g',\n",
              "                                                   'middle_right_infra1',\n",
              "                                                   'middle_right_infra2',\n",
              "                                                   'bottom_left_r',\n",
              "                                                   'bottom_left_g',\n",
              "                                                   'bottom_left_infra1',\n",
              "                                                   'bottom_left_infra2',\n",
              "                                                   'bottom_middle_r',\n",
              "                                                   'bottom_middle_g', ...])])),\n",
              "                ('rf',\n",
              "                 RandomForestClassifier(max_samples=500, n_estimators=1000,\n",
              "                                        n_jobs=-1, oob_score=True))])"
            ],
            "text/html": [
              "<style>#sk-container-id-1 {color: black;background-color: white;}#sk-container-id-1 pre{padding: 0;}#sk-container-id-1 div.sk-toggleable {background-color: white;}#sk-container-id-1 label.sk-toggleable__label {cursor: pointer;display: block;width: 100%;margin-bottom: 0;padding: 0.3em;box-sizing: border-box;text-align: center;}#sk-container-id-1 label.sk-toggleable__label-arrow:before {content: \"▸\";float: left;margin-right: 0.25em;color: #696969;}#sk-container-id-1 label.sk-toggleable__label-arrow:hover:before {color: black;}#sk-container-id-1 div.sk-estimator:hover label.sk-toggleable__label-arrow:before {color: black;}#sk-container-id-1 div.sk-toggleable__content {max-height: 0;max-width: 0;overflow: hidden;text-align: left;background-color: #f0f8ff;}#sk-container-id-1 div.sk-toggleable__content pre {margin: 0.2em;color: black;border-radius: 0.25em;background-color: #f0f8ff;}#sk-container-id-1 input.sk-toggleable__control:checked~div.sk-toggleable__content {max-height: 200px;max-width: 100%;overflow: auto;}#sk-container-id-1 input.sk-toggleable__control:checked~label.sk-toggleable__label-arrow:before {content: \"▾\";}#sk-container-id-1 div.sk-estimator input.sk-toggleable__control:checked~label.sk-toggleable__label {background-color: #d4ebff;}#sk-container-id-1 div.sk-label input.sk-toggleable__control:checked~label.sk-toggleable__label {background-color: #d4ebff;}#sk-container-id-1 input.sk-hidden--visually {border: 0;clip: rect(1px 1px 1px 1px);clip: rect(1px, 1px, 1px, 1px);height: 1px;margin: -1px;overflow: hidden;padding: 0;position: absolute;width: 1px;}#sk-container-id-1 div.sk-estimator {font-family: monospace;background-color: #f0f8ff;border: 1px dotted black;border-radius: 0.25em;box-sizing: border-box;margin-bottom: 0.5em;}#sk-container-id-1 div.sk-estimator:hover {background-color: #d4ebff;}#sk-container-id-1 div.sk-parallel-item::after {content: \"\";width: 100%;border-bottom: 1px solid gray;flex-grow: 1;}#sk-container-id-1 div.sk-label:hover label.sk-toggleable__label {background-color: #d4ebff;}#sk-container-id-1 div.sk-serial::before {content: \"\";position: absolute;border-left: 1px solid gray;box-sizing: border-box;top: 0;bottom: 0;left: 50%;z-index: 0;}#sk-container-id-1 div.sk-serial {display: flex;flex-direction: column;align-items: center;background-color: white;padding-right: 0.2em;padding-left: 0.2em;position: relative;}#sk-container-id-1 div.sk-item {position: relative;z-index: 1;}#sk-container-id-1 div.sk-parallel {display: flex;align-items: stretch;justify-content: center;background-color: white;position: relative;}#sk-container-id-1 div.sk-item::before, #sk-container-id-1 div.sk-parallel-item::before {content: \"\";position: absolute;border-left: 1px solid gray;box-sizing: border-box;top: 0;bottom: 0;left: 50%;z-index: -1;}#sk-container-id-1 div.sk-parallel-item {display: flex;flex-direction: column;z-index: 1;position: relative;background-color: white;}#sk-container-id-1 div.sk-parallel-item:first-child::after {align-self: flex-end;width: 50%;}#sk-container-id-1 div.sk-parallel-item:last-child::after {align-self: flex-start;width: 50%;}#sk-container-id-1 div.sk-parallel-item:only-child::after {width: 0;}#sk-container-id-1 div.sk-dashed-wrapped {border: 1px dashed gray;margin: 0 0.4em 0.5em 0.4em;box-sizing: border-box;padding-bottom: 0.4em;background-color: white;}#sk-container-id-1 div.sk-label label {font-family: monospace;font-weight: bold;display: inline-block;line-height: 1.2em;}#sk-container-id-1 div.sk-label-container {text-align: center;}#sk-container-id-1 div.sk-container {/* jupyter's `normalize.less` sets `[hidden] { display: none; }` but bootstrap.min.css set `[hidden] { display: none !important; }` so we also need the `!important` here to be able to override the default hidden behavior on the sphinx rendered scikit-learn.org. See: https://github.com/scikit-learn/scikit-learn/issues/21755 */display: inline-block !important;position: relative;}#sk-container-id-1 div.sk-text-repr-fallback {display: none;}</style><div id=\"sk-container-id-1\" class=\"sk-top-container\"><div class=\"sk-text-repr-fallback\"><pre>Pipeline(steps=[(&#x27;transform&#x27;,\n",
              "                 ColumnTransformer(remainder=&#x27;passthrough&#x27;,\n",
              "                                   transformers=[(&#x27;num&#x27;, MinMaxScaler(),\n",
              "                                                  [&#x27;top_left_r&#x27;, &#x27;top_left_g&#x27;,\n",
              "                                                   &#x27;top_left_infra1&#x27;,\n",
              "                                                   &#x27;top_left_infra2&#x27;,\n",
              "                                                   &#x27;top_middle_r&#x27;,\n",
              "                                                   &#x27;top_middle_g&#x27;,\n",
              "                                                   &#x27;top_middle_infra1&#x27;,\n",
              "                                                   &#x27;top_middle_infra2&#x27;,\n",
              "                                                   &#x27;top_right_r&#x27;, &#x27;top_right_g&#x27;,\n",
              "                                                   &#x27;top_right_infra1&#x27;,\n",
              "                                                   &#x27;top_right_infra2&#x27;,\n",
              "                                                   &#x27;middle_left_r&#x27;,\n",
              "                                                   &#x27;middle_left_g&#x27;,\n",
              "                                                   &#x27;middle_left...\n",
              "                                                   &#x27;central_pixel_g&#x27;,\n",
              "                                                   &#x27;central_pixel_infra1&#x27;,\n",
              "                                                   &#x27;central_pixel_infra2&#x27;,\n",
              "                                                   &#x27;middle_right_r&#x27;,\n",
              "                                                   &#x27;middle_right_g&#x27;,\n",
              "                                                   &#x27;middle_right_infra1&#x27;,\n",
              "                                                   &#x27;middle_right_infra2&#x27;,\n",
              "                                                   &#x27;bottom_left_r&#x27;,\n",
              "                                                   &#x27;bottom_left_g&#x27;,\n",
              "                                                   &#x27;bottom_left_infra1&#x27;,\n",
              "                                                   &#x27;bottom_left_infra2&#x27;,\n",
              "                                                   &#x27;bottom_middle_r&#x27;,\n",
              "                                                   &#x27;bottom_middle_g&#x27;, ...])])),\n",
              "                (&#x27;rf&#x27;,\n",
              "                 RandomForestClassifier(max_samples=500, n_estimators=1000,\n",
              "                                        n_jobs=-1, oob_score=True))])</pre><b>In a Jupyter environment, please rerun this cell to show the HTML representation or trust the notebook. <br />On GitHub, the HTML representation is unable to render, please try loading this page with nbviewer.org.</b></div><div class=\"sk-container\" hidden><div class=\"sk-item sk-dashed-wrapped\"><div class=\"sk-label-container\"><div class=\"sk-label sk-toggleable\"><input class=\"sk-toggleable__control sk-hidden--visually\" id=\"sk-estimator-id-1\" type=\"checkbox\" ><label for=\"sk-estimator-id-1\" class=\"sk-toggleable__label sk-toggleable__label-arrow\">Pipeline</label><div class=\"sk-toggleable__content\"><pre>Pipeline(steps=[(&#x27;transform&#x27;,\n",
              "                 ColumnTransformer(remainder=&#x27;passthrough&#x27;,\n",
              "                                   transformers=[(&#x27;num&#x27;, MinMaxScaler(),\n",
              "                                                  [&#x27;top_left_r&#x27;, &#x27;top_left_g&#x27;,\n",
              "                                                   &#x27;top_left_infra1&#x27;,\n",
              "                                                   &#x27;top_left_infra2&#x27;,\n",
              "                                                   &#x27;top_middle_r&#x27;,\n",
              "                                                   &#x27;top_middle_g&#x27;,\n",
              "                                                   &#x27;top_middle_infra1&#x27;,\n",
              "                                                   &#x27;top_middle_infra2&#x27;,\n",
              "                                                   &#x27;top_right_r&#x27;, &#x27;top_right_g&#x27;,\n",
              "                                                   &#x27;top_right_infra1&#x27;,\n",
              "                                                   &#x27;top_right_infra2&#x27;,\n",
              "                                                   &#x27;middle_left_r&#x27;,\n",
              "                                                   &#x27;middle_left_g&#x27;,\n",
              "                                                   &#x27;middle_left...\n",
              "                                                   &#x27;central_pixel_g&#x27;,\n",
              "                                                   &#x27;central_pixel_infra1&#x27;,\n",
              "                                                   &#x27;central_pixel_infra2&#x27;,\n",
              "                                                   &#x27;middle_right_r&#x27;,\n",
              "                                                   &#x27;middle_right_g&#x27;,\n",
              "                                                   &#x27;middle_right_infra1&#x27;,\n",
              "                                                   &#x27;middle_right_infra2&#x27;,\n",
              "                                                   &#x27;bottom_left_r&#x27;,\n",
              "                                                   &#x27;bottom_left_g&#x27;,\n",
              "                                                   &#x27;bottom_left_infra1&#x27;,\n",
              "                                                   &#x27;bottom_left_infra2&#x27;,\n",
              "                                                   &#x27;bottom_middle_r&#x27;,\n",
              "                                                   &#x27;bottom_middle_g&#x27;, ...])])),\n",
              "                (&#x27;rf&#x27;,\n",
              "                 RandomForestClassifier(max_samples=500, n_estimators=1000,\n",
              "                                        n_jobs=-1, oob_score=True))])</pre></div></div></div><div class=\"sk-serial\"><div class=\"sk-item sk-dashed-wrapped\"><div class=\"sk-label-container\"><div class=\"sk-label sk-toggleable\"><input class=\"sk-toggleable__control sk-hidden--visually\" id=\"sk-estimator-id-2\" type=\"checkbox\" ><label for=\"sk-estimator-id-2\" class=\"sk-toggleable__label sk-toggleable__label-arrow\">transform: ColumnTransformer</label><div class=\"sk-toggleable__content\"><pre>ColumnTransformer(remainder=&#x27;passthrough&#x27;,\n",
              "                  transformers=[(&#x27;num&#x27;, MinMaxScaler(),\n",
              "                                 [&#x27;top_left_r&#x27;, &#x27;top_left_g&#x27;, &#x27;top_left_infra1&#x27;,\n",
              "                                  &#x27;top_left_infra2&#x27;, &#x27;top_middle_r&#x27;,\n",
              "                                  &#x27;top_middle_g&#x27;, &#x27;top_middle_infra1&#x27;,\n",
              "                                  &#x27;top_middle_infra2&#x27;, &#x27;top_right_r&#x27;,\n",
              "                                  &#x27;top_right_g&#x27;, &#x27;top_right_infra1&#x27;,\n",
              "                                  &#x27;top_right_infra2&#x27;, &#x27;middle_left_r&#x27;,\n",
              "                                  &#x27;middle_left_g&#x27;, &#x27;middle_left_infra1&#x27;,\n",
              "                                  &#x27;middle_left_infra2&#x27;, &#x27;central_pixel_r&#x27;,\n",
              "                                  &#x27;central_pixel_g&#x27;, &#x27;central_pixel_infra1&#x27;,\n",
              "                                  &#x27;central_pixel_infra2&#x27;, &#x27;middle_right_r&#x27;,\n",
              "                                  &#x27;middle_right_g&#x27;, &#x27;middle_right_infra1&#x27;,\n",
              "                                  &#x27;middle_right_infra2&#x27;, &#x27;bottom_left_r&#x27;,\n",
              "                                  &#x27;bottom_left_g&#x27;, &#x27;bottom_left_infra1&#x27;,\n",
              "                                  &#x27;bottom_left_infra2&#x27;, &#x27;bottom_middle_r&#x27;,\n",
              "                                  &#x27;bottom_middle_g&#x27;, ...])])</pre></div></div></div><div class=\"sk-parallel\"><div class=\"sk-parallel-item\"><div class=\"sk-item\"><div class=\"sk-label-container\"><div class=\"sk-label sk-toggleable\"><input class=\"sk-toggleable__control sk-hidden--visually\" id=\"sk-estimator-id-3\" type=\"checkbox\" ><label for=\"sk-estimator-id-3\" class=\"sk-toggleable__label sk-toggleable__label-arrow\">num</label><div class=\"sk-toggleable__content\"><pre>[&#x27;top_left_r&#x27;, &#x27;top_left_g&#x27;, &#x27;top_left_infra1&#x27;, &#x27;top_left_infra2&#x27;, &#x27;top_middle_r&#x27;, &#x27;top_middle_g&#x27;, &#x27;top_middle_infra1&#x27;, &#x27;top_middle_infra2&#x27;, &#x27;top_right_r&#x27;, &#x27;top_right_g&#x27;, &#x27;top_right_infra1&#x27;, &#x27;top_right_infra2&#x27;, &#x27;middle_left_r&#x27;, &#x27;middle_left_g&#x27;, &#x27;middle_left_infra1&#x27;, &#x27;middle_left_infra2&#x27;, &#x27;central_pixel_r&#x27;, &#x27;central_pixel_g&#x27;, &#x27;central_pixel_infra1&#x27;, &#x27;central_pixel_infra2&#x27;, &#x27;middle_right_r&#x27;, &#x27;middle_right_g&#x27;, &#x27;middle_right_infra1&#x27;, &#x27;middle_right_infra2&#x27;, &#x27;bottom_left_r&#x27;, &#x27;bottom_left_g&#x27;, &#x27;bottom_left_infra1&#x27;, &#x27;bottom_left_infra2&#x27;, &#x27;bottom_middle_r&#x27;, &#x27;bottom_middle_g&#x27;, &#x27;bottom_middle_infra1&#x27;, &#x27;bottom_middle_infra2&#x27;, &#x27;bottom_right_r&#x27;, &#x27;bottom_right_g&#x27;, &#x27;bottom_right_infra1&#x27;, &#x27;bottom_right_infra2&#x27;]</pre></div></div></div><div class=\"sk-serial\"><div class=\"sk-item\"><div class=\"sk-estimator sk-toggleable\"><input class=\"sk-toggleable__control sk-hidden--visually\" id=\"sk-estimator-id-4\" type=\"checkbox\" ><label for=\"sk-estimator-id-4\" class=\"sk-toggleable__label sk-toggleable__label-arrow\">MinMaxScaler</label><div class=\"sk-toggleable__content\"><pre>MinMaxScaler()</pre></div></div></div></div></div></div><div class=\"sk-parallel-item\"><div class=\"sk-item\"><div class=\"sk-label-container\"><div class=\"sk-label sk-toggleable\"><input class=\"sk-toggleable__control sk-hidden--visually\" id=\"sk-estimator-id-5\" type=\"checkbox\" ><label for=\"sk-estimator-id-5\" class=\"sk-toggleable__label sk-toggleable__label-arrow\">remainder</label><div class=\"sk-toggleable__content\"><pre>[]</pre></div></div></div><div class=\"sk-serial\"><div class=\"sk-item\"><div class=\"sk-estimator sk-toggleable\"><input class=\"sk-toggleable__control sk-hidden--visually\" id=\"sk-estimator-id-6\" type=\"checkbox\" ><label for=\"sk-estimator-id-6\" class=\"sk-toggleable__label sk-toggleable__label-arrow\">passthrough</label><div class=\"sk-toggleable__content\"><pre>passthrough</pre></div></div></div></div></div></div></div></div><div class=\"sk-item\"><div class=\"sk-estimator sk-toggleable\"><input class=\"sk-toggleable__control sk-hidden--visually\" id=\"sk-estimator-id-7\" type=\"checkbox\" ><label for=\"sk-estimator-id-7\" class=\"sk-toggleable__label sk-toggleable__label-arrow\">RandomForestClassifier</label><div class=\"sk-toggleable__content\"><pre>RandomForestClassifier(max_samples=500, n_estimators=1000, n_jobs=-1,\n",
              "                       oob_score=True)</pre></div></div></div></div></div></div></div>"
            ]
          },
          "metadata": {},
          "execution_count": 17
        }
      ]
    },
    {
      "cell_type": "markdown",
      "source": [
        "### Evaluating Model"
      ],
      "metadata": {
        "id": "iBFx9cbQJCKr"
      }
    },
    {
      "cell_type": "code",
      "source": [
        "y_pred = pipeline.predict(X_test)"
      ],
      "metadata": {
        "id": "KkKEsFLeYkTZ"
      },
      "execution_count": 18,
      "outputs": []
    },
    {
      "cell_type": "code",
      "source": [
        "print(classification_report(y_test, y_pred))"
      ],
      "metadata": {
        "colab": {
          "base_uri": "https://localhost:8080/"
        },
        "id": "EKkDH0-DaHfE",
        "outputId": "9848c8f8-9499-4980-f13d-f7b725641e87"
      },
      "execution_count": 19,
      "outputs": [
        {
          "output_type": "stream",
          "name": "stdout",
          "text": [
            "              precision    recall  f1-score   support\n",
            "\n",
            "           1       0.94      0.98      0.96       461\n",
            "           2       0.98      0.96      0.97       224\n",
            "           3       0.86      0.95      0.91       397\n",
            "           4       0.74      0.57      0.65       211\n",
            "           5       0.91      0.77      0.84       237\n",
            "           7       0.83      0.87      0.85       470\n",
            "\n",
            "    accuracy                           0.88      2000\n",
            "   macro avg       0.88      0.85      0.86      2000\n",
            "weighted avg       0.88      0.88      0.88      2000\n",
            "\n"
          ]
        }
      ]
    },
    {
      "cell_type": "code",
      "source": [
        "cm = confusion_matrix(y_test, y_pred)\n",
        "disp = ConfusionMatrixDisplay(confusion_matrix=cm)\n",
        "\n",
        "fig, ax = plt.subplots(figsize=(10,10))\n",
        "disp.plot(ax=ax,cmap=\"YlOrRd\")\n"
      ],
      "metadata": {
        "colab": {
          "base_uri": "https://localhost:8080/",
          "height": 832
        },
        "id": "T7_e86KS4FGS",
        "outputId": "391ccb03-6a19-43b9-86a8-6fbf271cf9f4"
      },
      "execution_count": 20,
      "outputs": [
        {
          "output_type": "execute_result",
          "data": {
            "text/plain": [
              "<sklearn.metrics._plot.confusion_matrix.ConfusionMatrixDisplay at 0x7fae803134c0>"
            ]
          },
          "metadata": {},
          "execution_count": 20
        },
        {
          "output_type": "display_data",
          "data": {
            "text/plain": [
              "<Figure size 1000x1000 with 2 Axes>"
            ],
            "image/png": "[encoded data removed]"
          },
          "metadata": {}
        }
      ]
    },
    {
      "cell_type": "markdown",
      "source": [
        "### Conclusion\n",
        "The model has an overall accuracy of 88%. The predictions for the first three land types are good (over 90%) but the predictions for the final 3 are lower with the highest percentage being 85% and the lowest 65%."
      ],
      "metadata": {
        "id": "3lnXErgPJFde"
      }
    },
    {
      "cell_type": "markdown",
      "source": [
        "## Problem 2"
      ],
      "metadata": {
        "id": "cEwDPPtX-C9t"
      }
    },
    {
      "cell_type": "markdown",
      "source": [
        "### Reading the Data"
      ],
      "metadata": {
        "id": "iFllsBeo3Fym"
      }
    },
    {
      "cell_type": "code",
      "source": [
        "landsat_train = pd.read_csv('/content/gdrive/MyDrive/CS430/landsat_train.csv')\n",
        "landsat_test = pd.read_csv('/content/gdrive/MyDrive/CS430/landsat_test.csv')"
      ],
      "metadata": {
        "id": "xX5H8MW09oZC"
      },
      "execution_count": 24,
      "outputs": []
    },
    {
      "cell_type": "markdown",
      "source": [
        "### Splitting Data into Train/Test"
      ],
      "metadata": {
        "id": "loHENV0V-Okn"
      }
    },
    {
      "cell_type": "code",
      "source": [
        "X_train = landsat_train.iloc[:,:-1]\n",
        "X_test = landsat_test.iloc[:,:-1]\n",
        "y_train = landsat_train.land_type\n",
        "y_test = landsat_test.land_type"
      ],
      "metadata": {
        "id": "-O05Rhv_97bR"
      },
      "execution_count": 25,
      "outputs": []
    },
    {
      "cell_type": "markdown",
      "source": [
        "### Building the Pipeline"
      ],
      "metadata": {
        "id": "fwGIAvl3-Ok-"
      }
    },
    {
      "cell_type": "code",
      "source": [
        "num_attribs = ['top_left_r',             \n",
        "'top_left_g',              \n",
        "'top_left_infra1',         \n",
        "'top_left_infra2',         \n",
        "'top_middle_r',            \n",
        "'top_middle_g',            \n",
        "'top_middle_infra1',       \n",
        "'top_middle_infra2',       \n",
        "'top_right_r',             \n",
        "'top_right_g',             \n",
        "'top_right_infra1',        \n",
        "'top_right_infra2',        \n",
        "'middle_left_r',           \n",
        "'middle_left_g',           \n",
        "'middle_left_infra1',      \n",
        "'middle_left_infra2',      \n",
        "'central_pixel_r',         \n",
        "'central_pixel_g',         \n",
        "'central_pixel_infra1',    \n",
        "'central_pixel_infra2',    \n",
        "'middle_right_r',          \n",
        "'middle_right_g',          \n",
        "'middle_right_infra1',     \n",
        "'middle_right_infra2',     \n",
        "'bottom_left_r',           \n",
        "'bottom_left_g',           \n",
        "'bottom_left_infra1',      \n",
        "'bottom_left_infra2',      \n",
        "'bottom_middle_r',         \n",
        "'bottom_middle_g',         \n",
        "'bottom_middle_infra1',    \n",
        "'bottom_middle_infra2',    \n",
        "'bottom_right_r',          \n",
        "'bottom_right_g',          \n",
        "'bottom_right_infra1',     \n",
        "'bottom_right_infra2']"
      ],
      "metadata": {
        "id": "odJPTjDs-CH1"
      },
      "execution_count": 26,
      "outputs": []
    },
    {
      "cell_type": "code",
      "source": [
        "col_transform = ColumnTransformer(transformers=[\n",
        "    \n",
        "    ('num', MinMaxScaler(), num_attribs)],\n",
        "    remainder='passthrough'\n",
        ")"
      ],
      "metadata": {
        "id": "WZYxaHWG-Dwn"
      },
      "execution_count": 27,
      "outputs": []
    },
    {
      "cell_type": "code",
      "source": [
        "bagging = Pipeline([\n",
        "    ('transform', col_transform),\n",
        "    ('bagging', BaggingClassifier(DecisionTreeClassifier(),\n",
        "                                  n_estimators=1000,\n",
        "                                  max_samples=500,\n",
        "                                  bootstrap=True,\n",
        "                                  n_jobs=-1))\n",
        "])"
      ],
      "metadata": {
        "id": "ROmDoPtq6NDW"
      },
      "execution_count": 29,
      "outputs": []
    },
    {
      "cell_type": "markdown",
      "source": [
        "### Executing the Model"
      ],
      "metadata": {
        "id": "ivVjQ7Jm-Ok_"
      }
    },
    {
      "cell_type": "code",
      "source": [
        "bagging.fit(X_train,np.ravel(y_train))"
      ],
      "metadata": {
        "colab": {
          "base_uri": "https://localhost:8080/",
          "height": 256
        },
        "id": "vb3UAUmB-5Ge",
        "outputId": "22789d65-fdc1-4ba5-bc4c-ccb3d728d035"
      },
      "execution_count": 30,
      "outputs": [
        {
          "output_type": "execute_result",
          "data": {
            "text/plain": [
              "Pipeline(steps=[('transform',\n",
              "                 ColumnTransformer(remainder='passthrough',\n",
              "                                   transformers=[('num', MinMaxScaler(),\n",
              "                                                  ['top_left_r', 'top_left_g',\n",
              "                                                   'top_left_infra1',\n",
              "                                                   'top_left_infra2',\n",
              "                                                   'top_middle_r',\n",
              "                                                   'top_middle_g',\n",
              "                                                   'top_middle_infra1',\n",
              "                                                   'top_middle_infra2',\n",
              "                                                   'top_right_r', 'top_right_g',\n",
              "                                                   'top_right_infra1',\n",
              "                                                   'top_right_infra2',\n",
              "                                                   'middle_left_r',\n",
              "                                                   'middle_left_g',\n",
              "                                                   'middle_left...\n",
              "                                                   'central_pixel_infra1',\n",
              "                                                   'central_pixel_infra2',\n",
              "                                                   'middle_right_r',\n",
              "                                                   'middle_right_g',\n",
              "                                                   'middle_right_infra1',\n",
              "                                                   'middle_right_infra2',\n",
              "                                                   'bottom_left_r',\n",
              "                                                   'bottom_left_g',\n",
              "                                                   'bottom_left_infra1',\n",
              "                                                   'bottom_left_infra2',\n",
              "                                                   'bottom_middle_r',\n",
              "                                                   'bottom_middle_g', ...])])),\n",
              "                ('bagging',\n",
              "                 BaggingClassifier(estimator=DecisionTreeClassifier(),\n",
              "                                   max_samples=500, n_estimators=1000,\n",
              "                                   n_jobs=-1))])"
            ],
            "text/html": [
              "<style>#sk-container-id-2 {color: black;background-color: white;}#sk-container-id-2 pre{padding: 0;}#sk-container-id-2 div.sk-toggleable {background-color: white;}#sk-container-id-2 label.sk-toggleable__label {cursor: pointer;display: block;width: 100%;margin-bottom: 0;padding: 0.3em;box-sizing: border-box;text-align: center;}#sk-container-id-2 label.sk-toggleable__label-arrow:before {content: \"▸\";float: left;margin-right: 0.25em;color: #696969;}#sk-container-id-2 label.sk-toggleable__label-arrow:hover:before {color: black;}#sk-container-id-2 div.sk-estimator:hover label.sk-toggleable__label-arrow:before {color: black;}#sk-container-id-2 div.sk-toggleable__content {max-height: 0;max-width: 0;overflow: hidden;text-align: left;background-color: #f0f8ff;}#sk-container-id-2 div.sk-toggleable__content pre {margin: 0.2em;color: black;border-radius: 0.25em;background-color: #f0f8ff;}#sk-container-id-2 input.sk-toggleable__control:checked~div.sk-toggleable__content {max-height: 200px;max-width: 100%;overflow: auto;}#sk-container-id-2 input.sk-toggleable__control:checked~label.sk-toggleable__label-arrow:before {content: \"▾\";}#sk-container-id-2 div.sk-estimator input.sk-toggleable__control:checked~label.sk-toggleable__label {background-color: #d4ebff;}#sk-container-id-2 div.sk-label input.sk-toggleable__control:checked~label.sk-toggleable__label {background-color: #d4ebff;}#sk-container-id-2 input.sk-hidden--visually {border: 0;clip: rect(1px 1px 1px 1px);clip: rect(1px, 1px, 1px, 1px);height: 1px;margin: -1px;overflow: hidden;padding: 0;position: absolute;width: 1px;}#sk-container-id-2 div.sk-estimator {font-family: monospace;background-color: #f0f8ff;border: 1px dotted black;border-radius: 0.25em;box-sizing: border-box;margin-bottom: 0.5em;}#sk-container-id-2 div.sk-estimator:hover {background-color: #d4ebff;}#sk-container-id-2 div.sk-parallel-item::after {content: \"\";width: 100%;border-bottom: 1px solid gray;flex-grow: 1;}#sk-container-id-2 div.sk-label:hover label.sk-toggleable__label {background-color: #d4ebff;}#sk-container-id-2 div.sk-serial::before {content: \"\";position: absolute;border-left: 1px solid gray;box-sizing: border-box;top: 0;bottom: 0;left: 50%;z-index: 0;}#sk-container-id-2 div.sk-serial {display: flex;flex-direction: column;align-items: center;background-color: white;padding-right: 0.2em;padding-left: 0.2em;position: relative;}#sk-container-id-2 div.sk-item {position: relative;z-index: 1;}#sk-container-id-2 div.sk-parallel {display: flex;align-items: stretch;justify-content: center;background-color: white;position: relative;}#sk-container-id-2 div.sk-item::before, #sk-container-id-2 div.sk-parallel-item::before {content: \"\";position: absolute;border-left: 1px solid gray;box-sizing: border-box;top: 0;bottom: 0;left: 50%;z-index: -1;}#sk-container-id-2 div.sk-parallel-item {display: flex;flex-direction: column;z-index: 1;position: relative;background-color: white;}#sk-container-id-2 div.sk-parallel-item:first-child::after {align-self: flex-end;width: 50%;}#sk-container-id-2 div.sk-parallel-item:last-child::after {align-self: flex-start;width: 50%;}#sk-container-id-2 div.sk-parallel-item:only-child::after {width: 0;}#sk-container-id-2 div.sk-dashed-wrapped {border: 1px dashed gray;margin: 0 0.4em 0.5em 0.4em;box-sizing: border-box;padding-bottom: 0.4em;background-color: white;}#sk-container-id-2 div.sk-label label {font-family: monospace;font-weight: bold;display: inline-block;line-height: 1.2em;}#sk-container-id-2 div.sk-label-container {text-align: center;}#sk-container-id-2 div.sk-container {/* jupyter's `normalize.less` sets `[hidden] { display: none; }` but bootstrap.min.css set `[hidden] { display: none !important; }` so we also need the `!important` here to be able to override the default hidden behavior on the sphinx rendered scikit-learn.org. See: https://github.com/scikit-learn/scikit-learn/issues/21755 */display: inline-block !important;position: relative;}#sk-container-id-2 div.sk-text-repr-fallback {display: none;}</style><div id=\"sk-container-id-2\" class=\"sk-top-container\"><div class=\"sk-text-repr-fallback\"><pre>Pipeline(steps=[(&#x27;transform&#x27;,\n",
              "                 ColumnTransformer(remainder=&#x27;passthrough&#x27;,\n",
              "                                   transformers=[(&#x27;num&#x27;, MinMaxScaler(),\n",
              "                                                  [&#x27;top_left_r&#x27;, &#x27;top_left_g&#x27;,\n",
              "                                                   &#x27;top_left_infra1&#x27;,\n",
              "                                                   &#x27;top_left_infra2&#x27;,\n",
              "                                                   &#x27;top_middle_r&#x27;,\n",
              "                                                   &#x27;top_middle_g&#x27;,\n",
              "                                                   &#x27;top_middle_infra1&#x27;,\n",
              "                                                   &#x27;top_middle_infra2&#x27;,\n",
              "                                                   &#x27;top_right_r&#x27;, &#x27;top_right_g&#x27;,\n",
              "                                                   &#x27;top_right_infra1&#x27;,\n",
              "                                                   &#x27;top_right_infra2&#x27;,\n",
              "                                                   &#x27;middle_left_r&#x27;,\n",
              "                                                   &#x27;middle_left_g&#x27;,\n",
              "                                                   &#x27;middle_left...\n",
              "                                                   &#x27;central_pixel_infra1&#x27;,\n",
              "                                                   &#x27;central_pixel_infra2&#x27;,\n",
              "                                                   &#x27;middle_right_r&#x27;,\n",
              "                                                   &#x27;middle_right_g&#x27;,\n",
              "                                                   &#x27;middle_right_infra1&#x27;,\n",
              "                                                   &#x27;middle_right_infra2&#x27;,\n",
              "                                                   &#x27;bottom_left_r&#x27;,\n",
              "                                                   &#x27;bottom_left_g&#x27;,\n",
              "                                                   &#x27;bottom_left_infra1&#x27;,\n",
              "                                                   &#x27;bottom_left_infra2&#x27;,\n",
              "                                                   &#x27;bottom_middle_r&#x27;,\n",
              "                                                   &#x27;bottom_middle_g&#x27;, ...])])),\n",
              "                (&#x27;bagging&#x27;,\n",
              "                 BaggingClassifier(estimator=DecisionTreeClassifier(),\n",
              "                                   max_samples=500, n_estimators=1000,\n",
              "                                   n_jobs=-1))])</pre><b>In a Jupyter environment, please rerun this cell to show the HTML representation or trust the notebook. <br />On GitHub, the HTML representation is unable to render, please try loading this page with nbviewer.org.</b></div><div class=\"sk-container\" hidden><div class=\"sk-item sk-dashed-wrapped\"><div class=\"sk-label-container\"><div class=\"sk-label sk-toggleable\"><input class=\"sk-toggleable__control sk-hidden--visually\" id=\"sk-estimator-id-8\" type=\"checkbox\" ><label for=\"sk-estimator-id-8\" class=\"sk-toggleable__label sk-toggleable__label-arrow\">Pipeline</label><div class=\"sk-toggleable__content\"><pre>Pipeline(steps=[(&#x27;transform&#x27;,\n",
              "                 ColumnTransformer(remainder=&#x27;passthrough&#x27;,\n",
              "                                   transformers=[(&#x27;num&#x27;, MinMaxScaler(),\n",
              "                                                  [&#x27;top_left_r&#x27;, &#x27;top_left_g&#x27;,\n",
              "                                                   &#x27;top_left_infra1&#x27;,\n",
              "                                                   &#x27;top_left_infra2&#x27;,\n",
              "                                                   &#x27;top_middle_r&#x27;,\n",
              "                                                   &#x27;top_middle_g&#x27;,\n",
              "                                                   &#x27;top_middle_infra1&#x27;,\n",
              "                                                   &#x27;top_middle_infra2&#x27;,\n",
              "                                                   &#x27;top_right_r&#x27;, &#x27;top_right_g&#x27;,\n",
              "                                                   &#x27;top_right_infra1&#x27;,\n",
              "                                                   &#x27;top_right_infra2&#x27;,\n",
              "                                                   &#x27;middle_left_r&#x27;,\n",
              "                                                   &#x27;middle_left_g&#x27;,\n",
              "                                                   &#x27;middle_left...\n",
              "                                                   &#x27;central_pixel_infra1&#x27;,\n",
              "                                                   &#x27;central_pixel_infra2&#x27;,\n",
              "                                                   &#x27;middle_right_r&#x27;,\n",
              "                                                   &#x27;middle_right_g&#x27;,\n",
              "                                                   &#x27;middle_right_infra1&#x27;,\n",
              "                                                   &#x27;middle_right_infra2&#x27;,\n",
              "                                                   &#x27;bottom_left_r&#x27;,\n",
              "                                                   &#x27;bottom_left_g&#x27;,\n",
              "                                                   &#x27;bottom_left_infra1&#x27;,\n",
              "                                                   &#x27;bottom_left_infra2&#x27;,\n",
              "                                                   &#x27;bottom_middle_r&#x27;,\n",
              "                                                   &#x27;bottom_middle_g&#x27;, ...])])),\n",
              "                (&#x27;bagging&#x27;,\n",
              "                 BaggingClassifier(estimator=DecisionTreeClassifier(),\n",
              "                                   max_samples=500, n_estimators=1000,\n",
              "                                   n_jobs=-1))])</pre></div></div></div><div class=\"sk-serial\"><div class=\"sk-item sk-dashed-wrapped\"><div class=\"sk-label-container\"><div class=\"sk-label sk-toggleable\"><input class=\"sk-toggleable__control sk-hidden--visually\" id=\"sk-estimator-id-9\" type=\"checkbox\" ><label for=\"sk-estimator-id-9\" class=\"sk-toggleable__label sk-toggleable__label-arrow\">transform: ColumnTransformer</label><div class=\"sk-toggleable__content\"><pre>ColumnTransformer(remainder=&#x27;passthrough&#x27;,\n",
              "                  transformers=[(&#x27;num&#x27;, MinMaxScaler(),\n",
              "                                 [&#x27;top_left_r&#x27;, &#x27;top_left_g&#x27;, &#x27;top_left_infra1&#x27;,\n",
              "                                  &#x27;top_left_infra2&#x27;, &#x27;top_middle_r&#x27;,\n",
              "                                  &#x27;top_middle_g&#x27;, &#x27;top_middle_infra1&#x27;,\n",
              "                                  &#x27;top_middle_infra2&#x27;, &#x27;top_right_r&#x27;,\n",
              "                                  &#x27;top_right_g&#x27;, &#x27;top_right_infra1&#x27;,\n",
              "                                  &#x27;top_right_infra2&#x27;, &#x27;middle_left_r&#x27;,\n",
              "                                  &#x27;middle_left_g&#x27;, &#x27;middle_left_infra1&#x27;,\n",
              "                                  &#x27;middle_left_infra2&#x27;, &#x27;central_pixel_r&#x27;,\n",
              "                                  &#x27;central_pixel_g&#x27;, &#x27;central_pixel_infra1&#x27;,\n",
              "                                  &#x27;central_pixel_infra2&#x27;, &#x27;middle_right_r&#x27;,\n",
              "                                  &#x27;middle_right_g&#x27;, &#x27;middle_right_infra1&#x27;,\n",
              "                                  &#x27;middle_right_infra2&#x27;, &#x27;bottom_left_r&#x27;,\n",
              "                                  &#x27;bottom_left_g&#x27;, &#x27;bottom_left_infra1&#x27;,\n",
              "                                  &#x27;bottom_left_infra2&#x27;, &#x27;bottom_middle_r&#x27;,\n",
              "                                  &#x27;bottom_middle_g&#x27;, ...])])</pre></div></div></div><div class=\"sk-parallel\"><div class=\"sk-parallel-item\"><div class=\"sk-item\"><div class=\"sk-label-container\"><div class=\"sk-label sk-toggleable\"><input class=\"sk-toggleable__control sk-hidden--visually\" id=\"sk-estimator-id-10\" type=\"checkbox\" ><label for=\"sk-estimator-id-10\" class=\"sk-toggleable__label sk-toggleable__label-arrow\">num</label><div class=\"sk-toggleable__content\"><pre>[&#x27;top_left_r&#x27;, &#x27;top_left_g&#x27;, &#x27;top_left_infra1&#x27;, &#x27;top_left_infra2&#x27;, &#x27;top_middle_r&#x27;, &#x27;top_middle_g&#x27;, &#x27;top_middle_infra1&#x27;, &#x27;top_middle_infra2&#x27;, &#x27;top_right_r&#x27;, &#x27;top_right_g&#x27;, &#x27;top_right_infra1&#x27;, &#x27;top_right_infra2&#x27;, &#x27;middle_left_r&#x27;, &#x27;middle_left_g&#x27;, &#x27;middle_left_infra1&#x27;, &#x27;middle_left_infra2&#x27;, &#x27;central_pixel_r&#x27;, &#x27;central_pixel_g&#x27;, &#x27;central_pixel_infra1&#x27;, &#x27;central_pixel_infra2&#x27;, &#x27;middle_right_r&#x27;, &#x27;middle_right_g&#x27;, &#x27;middle_right_infra1&#x27;, &#x27;middle_right_infra2&#x27;, &#x27;bottom_left_r&#x27;, &#x27;bottom_left_g&#x27;, &#x27;bottom_left_infra1&#x27;, &#x27;bottom_left_infra2&#x27;, &#x27;bottom_middle_r&#x27;, &#x27;bottom_middle_g&#x27;, &#x27;bottom_middle_infra1&#x27;, &#x27;bottom_middle_infra2&#x27;, &#x27;bottom_right_r&#x27;, &#x27;bottom_right_g&#x27;, &#x27;bottom_right_infra1&#x27;, &#x27;bottom_right_infra2&#x27;]</pre></div></div></div><div class=\"sk-serial\"><div class=\"sk-item\"><div class=\"sk-estimator sk-toggleable\"><input class=\"sk-toggleable__control sk-hidden--visually\" id=\"sk-estimator-id-11\" type=\"checkbox\" ><label for=\"sk-estimator-id-11\" class=\"sk-toggleable__label sk-toggleable__label-arrow\">MinMaxScaler</label><div class=\"sk-toggleable__content\"><pre>MinMaxScaler()</pre></div></div></div></div></div></div><div class=\"sk-parallel-item\"><div class=\"sk-item\"><div class=\"sk-label-container\"><div class=\"sk-label sk-toggleable\"><input class=\"sk-toggleable__control sk-hidden--visually\" id=\"sk-estimator-id-12\" type=\"checkbox\" ><label for=\"sk-estimator-id-12\" class=\"sk-toggleable__label sk-toggleable__label-arrow\">remainder</label><div class=\"sk-toggleable__content\"><pre>[]</pre></div></div></div><div class=\"sk-serial\"><div class=\"sk-item\"><div class=\"sk-estimator sk-toggleable\"><input class=\"sk-toggleable__control sk-hidden--visually\" id=\"sk-estimator-id-13\" type=\"checkbox\" ><label for=\"sk-estimator-id-13\" class=\"sk-toggleable__label sk-toggleable__label-arrow\">passthrough</label><div class=\"sk-toggleable__content\"><pre>passthrough</pre></div></div></div></div></div></div></div></div><div class=\"sk-item sk-dashed-wrapped\"><div class=\"sk-label-container\"><div class=\"sk-label sk-toggleable\"><input class=\"sk-toggleable__control sk-hidden--visually\" id=\"sk-estimator-id-14\" type=\"checkbox\" ><label for=\"sk-estimator-id-14\" class=\"sk-toggleable__label sk-toggleable__label-arrow\">bagging: BaggingClassifier</label><div class=\"sk-toggleable__content\"><pre>BaggingClassifier(estimator=DecisionTreeClassifier(), max_samples=500,\n",
              "                  n_estimators=1000, n_jobs=-1)</pre></div></div></div><div class=\"sk-parallel\"><div class=\"sk-parallel-item\"><div class=\"sk-item\"><div class=\"sk-label-container\"><div class=\"sk-label sk-toggleable\"><input class=\"sk-toggleable__control sk-hidden--visually\" id=\"sk-estimator-id-15\" type=\"checkbox\" ><label for=\"sk-estimator-id-15\" class=\"sk-toggleable__label sk-toggleable__label-arrow\">estimator: DecisionTreeClassifier</label><div class=\"sk-toggleable__content\"><pre>DecisionTreeClassifier()</pre></div></div></div><div class=\"sk-serial\"><div class=\"sk-item\"><div class=\"sk-estimator sk-toggleable\"><input class=\"sk-toggleable__control sk-hidden--visually\" id=\"sk-estimator-id-16\" type=\"checkbox\" ><label for=\"sk-estimator-id-16\" class=\"sk-toggleable__label sk-toggleable__label-arrow\">DecisionTreeClassifier</label><div class=\"sk-toggleable__content\"><pre>DecisionTreeClassifier()</pre></div></div></div></div></div></div></div></div></div></div></div></div>"
            ]
          },
          "metadata": {},
          "execution_count": 30
        }
      ]
    },
    {
      "cell_type": "markdown",
      "source": [
        "### Evaluating Model"
      ],
      "metadata": {
        "id": "SMLuruS6-OlA"
      }
    },
    {
      "cell_type": "code",
      "source": [
        "y_pred = bagging.predict(X_test)"
      ],
      "metadata": {
        "id": "BVjaPU3q_ESg"
      },
      "execution_count": 31,
      "outputs": []
    },
    {
      "cell_type": "code",
      "source": [
        "print(classification_report(y_test, y_pred))"
      ],
      "metadata": {
        "colab": {
          "base_uri": "https://localhost:8080/"
        },
        "id": "6zxoRygh_MdW",
        "outputId": "7fa51746-16b7-45ce-f71b-aeaeeaf0c375"
      },
      "execution_count": 32,
      "outputs": [
        {
          "output_type": "stream",
          "name": "stdout",
          "text": [
            "              precision    recall  f1-score   support\n",
            "\n",
            "           1       0.94      0.98      0.96       461\n",
            "           2       0.98      0.95      0.97       224\n",
            "           3       0.86      0.95      0.90       397\n",
            "           4       0.69      0.59      0.64       211\n",
            "           5       0.90      0.78      0.83       237\n",
            "           7       0.84      0.86      0.85       470\n",
            "\n",
            "    accuracy                           0.88      2000\n",
            "   macro avg       0.87      0.85      0.86      2000\n",
            "weighted avg       0.88      0.88      0.87      2000\n",
            "\n"
          ]
        }
      ]
    },
    {
      "cell_type": "code",
      "source": [
        "cm = confusion_matrix(y_test, y_pred)\n",
        "disp = ConfusionMatrixDisplay(confusion_matrix=cm)\n",
        "\n",
        "fig, ax = plt.subplots(figsize=(10,10))\n",
        "disp.plot(ax=ax,cmap=\"YlOrRd\")"
      ],
      "metadata": {
        "colab": {
          "base_uri": "https://localhost:8080/",
          "height": 832
        },
        "id": "EDjxhY_p_UQc",
        "outputId": "b3165f4c-813a-4576-c9dc-8977e17c0649"
      },
      "execution_count": 33,
      "outputs": [
        {
          "output_type": "execute_result",
          "data": {
            "text/plain": [
              "<sklearn.metrics._plot.confusion_matrix.ConfusionMatrixDisplay at 0x7fae804c3d00>"
            ]
          },
          "metadata": {},
          "execution_count": 33
        },
        {
          "output_type": "display_data",
          "data": {
            "text/plain": [
              "<Figure size 1000x1000 with 2 Axes>"
            ],
            "image/png": "[encoded data removed]"
          },
          "metadata": {}
        }
      ]
    },
    {
      "cell_type": "markdown",
      "source": [
        "### Conclusion\n",
        "The model has an overall accuracy of 88% which is the same as the random forest classifier. The predictions for the first three land types are good (over 90%) but the predictions for the final 3 are lower with the highest percentage being 85% and the lowest 64%."
      ],
      "metadata": {
        "id": "TaNdOL7rk8q8"
      }
    },
    {
      "cell_type": "markdown",
      "source": [
        "Problem 3\n"
      ],
      "metadata": {
        "id": "Bsiu8lLRI5Cp"
      }
    },
    {
      "cell_type": "markdown",
      "source": [
        "Reading the Data\n"
      ],
      "metadata": {
        "id": "kfBXHDICJG6F"
      }
    },
    {
      "cell_type": "code",
      "source": [
        "df = pd.read_csv('/content/gdrive/MyDrive/CS430/banknote_authentication.csv')"
      ],
      "metadata": {
        "id": "cwCeMmds_zSN"
      },
      "execution_count": 34,
      "outputs": []
    },
    {
      "cell_type": "code",
      "source": [
        "df.head()"
      ],
      "metadata": {
        "colab": {
          "base_uri": "https://localhost:8080/",
          "height": 206
        },
        "id": "Vu8FH35TA4-o",
        "outputId": "f9cb598e-c4a9-4908-e887-9314afbf994a"
      },
      "execution_count": 35,
      "outputs": [
        {
          "output_type": "execute_result",
          "data": {
            "text/plain": [
              "   variance  skewness  curtosis  entropy  forgery\n",
              "0   3.62160    8.6661   -2.8073 -0.44699        0\n",
              "1   4.54590    8.1674   -2.4586 -1.46210        0\n",
              "2   3.86600   -2.6383    1.9242  0.10645        0\n",
              "3   3.45660    9.5228   -4.0112 -3.59440        0\n",
              "4   0.32924   -4.4552    4.5718 -0.98880        0"
            ],
            "text/html": [
              "\n",
              "  <div id=\"df-3a043fb6-c53e-481a-9d91-76e62336210c\">\n",
              "    <div class=\"colab-df-container\">\n",
              "      <div>\n",
              "<style scoped>\n",
              "    .dataframe tbody tr th:only-of-type {\n",
              "        vertical-align: middle;\n",
              "    }\n",
              "\n",
              "    .dataframe tbody tr th {\n",
              "        vertical-align: top;\n",
              "    }\n",
              "\n",
              "    .dataframe thead th {\n",
              "        text-align: right;\n",
              "    }\n",
              "</style>\n",
              "<table border=\"1\" class=\"dataframe\">\n",
              "  <thead>\n",
              "    <tr style=\"text-align: right;\">\n",
              "      <th></th>\n",
              "      <th>variance</th>\n",
              "      <th>skewness</th>\n",
              "      <th>curtosis</th>\n",
              "      <th>entropy</th>\n",
              "      <th>forgery</th>\n",
              "    </tr>\n",
              "  </thead>\n",
              "  <tbody>\n",
              "    <tr>\n",
              "      <th>0</th>\n",
              "      <td>3.62160</td>\n",
              "      <td>8.6661</td>\n",
              "      <td>-2.8073</td>\n",
              "      <td>-0.44699</td>\n",
              "      <td>0</td>\n",
              "    </tr>\n",
              "    <tr>\n",
              "      <th>1</th>\n",
              "      <td>4.54590</td>\n",
              "      <td>8.1674</td>\n",
              "      <td>-2.4586</td>\n",
              "      <td>-1.46210</td>\n",
              "      <td>0</td>\n",
              "    </tr>\n",
              "    <tr>\n",
              "      <th>2</th>\n",
              "      <td>3.86600</td>\n",
              "      <td>-2.6383</td>\n",
              "      <td>1.9242</td>\n",
              "      <td>0.10645</td>\n",
              "      <td>0</td>\n",
              "    </tr>\n",
              "    <tr>\n",
              "      <th>3</th>\n",
              "      <td>3.45660</td>\n",
              "      <td>9.5228</td>\n",
              "      <td>-4.0112</td>\n",
              "      <td>-3.59440</td>\n",
              "      <td>0</td>\n",
              "    </tr>\n",
              "    <tr>\n",
              "      <th>4</th>\n",
              "      <td>0.32924</td>\n",
              "      <td>-4.4552</td>\n",
              "      <td>4.5718</td>\n",
              "      <td>-0.98880</td>\n",
              "      <td>0</td>\n",
              "    </tr>\n",
              "  </tbody>\n",
              "</table>\n",
              "</div>\n",
              "      <button class=\"colab-df-convert\" onclick=\"convertToInteractive('df-3a043fb6-c53e-481a-9d91-76e62336210c')\"\n",
              "              title=\"Convert this dataframe to an interactive table.\"\n",
              "              style=\"display:none;\">\n",
              "        \n",
              "  <svg xmlns=\"http://www.w3.org/2000/svg\" height=\"24px\"viewBox=\"0 0 24 24\"\n",
              "       width=\"24px\">\n",
              "    <path d=\"M0 0h24v24H0V0z\" fill=\"none\"/>\n",
              "    <path d=\"M18.56 5.44l.94 2.06.94-2.06 2.06-.94-2.06-.94-.94-2.06-.94 2.06-2.06.94zm-11 1L8.5 8.5l.94-2.06 2.06-.94-2.06-.94L8.5 2.5l-.94 2.06-2.06.94zm10 10l.94 2.06.94-2.06 2.06-.94-2.06-.94-.94-2.06-.94 2.06-2.06.94z\"/><path d=\"M17.41 7.96l-1.37-1.37c-.4-.4-.92-.59-1.43-.59-.52 0-1.04.2-1.43.59L10.3 9.45l-7.72 7.72c-.78.78-.78 2.05 0 2.83L4 21.41c.39.39.9.59 1.41.59.51 0 1.02-.2 1.41-.59l7.78-7.78 2.81-2.81c.8-.78.8-2.07 0-2.86zM5.41 20L4 18.59l7.72-7.72 1.47 1.35L5.41 20z\"/>\n",
              "  </svg>\n",
              "      </button>\n",
              "      \n",
              "  <style>\n",
              "    .colab-df-container {\n",
              "      display:flex;\n",
              "      flex-wrap:wrap;\n",
              "      gap: 12px;\n",
              "    }\n",
              "\n",
              "    .colab-df-convert {\n",
              "      background-color: #E8F0FE;\n",
              "      border: none;\n",
              "      border-radius: 50%;\n",
              "      cursor: pointer;\n",
              "      display: none;\n",
              "      fill: #1967D2;\n",
              "      height: 32px;\n",
              "      padding: 0 0 0 0;\n",
              "      width: 32px;\n",
              "    }\n",
              "\n",
              "    .colab-df-convert:hover {\n",
              "      background-color: #E2EBFA;\n",
              "      box-shadow: 0px 1px 2px rgba(60, 64, 67, 0.3), 0px 1px 3px 1px rgba(60, 64, 67, 0.15);\n",
              "      fill: #174EA6;\n",
              "    }\n",
              "\n",
              "    [theme=dark] .colab-df-convert {\n",
              "      background-color: #3B4455;\n",
              "      fill: #D2E3FC;\n",
              "    }\n",
              "\n",
              "    [theme=dark] .colab-df-convert:hover {\n",
              "      background-color: #434B5C;\n",
              "      box-shadow: 0px 1px 3px 1px rgba(0, 0, 0, 0.15);\n",
              "      filter: drop-shadow(0px 1px 2px rgba(0, 0, 0, 0.3));\n",
              "      fill: #FFFFFF;\n",
              "    }\n",
              "  </style>\n",
              "\n",
              "      <script>\n",
              "        const buttonEl =\n",
              "          document.querySelector('#df-3a043fb6-c53e-481a-9d91-76e62336210c button.colab-df-convert');\n",
              "        buttonEl.style.display =\n",
              "          google.colab.kernel.accessAllowed ? 'block' : 'none';\n",
              "\n",
              "        async function convertToInteractive(key) {\n",
              "          const element = document.querySelector('#df-3a043fb6-c53e-481a-9d91-76e62336210c');\n",
              "          const dataTable =\n",
              "            await google.colab.kernel.invokeFunction('convertToInteractive',\n",
              "                                                     [key], {});\n",
              "          if (!dataTable) return;\n",
              "\n",
              "          const docLinkHtml = 'Like what you see? Visit the ' +\n",
              "            '<a target=\"_blank\" href=https://colab.research.google.com/notebooks/data_table.ipynb>data table notebook</a>'\n",
              "            + ' to learn more about interactive tables.';\n",
              "          element.innerHTML = '';\n",
              "          dataTable['output_type'] = 'display_data';\n",
              "          await google.colab.output.renderOutput(dataTable, element);\n",
              "          const docLink = document.createElement('div');\n",
              "          docLink.innerHTML = docLinkHtml;\n",
              "          element.appendChild(docLink);\n",
              "        }\n",
              "      </script>\n",
              "    </div>\n",
              "  </div>\n",
              "  "
            ]
          },
          "metadata": {},
          "execution_count": 35
        }
      ]
    },
    {
      "cell_type": "markdown",
      "source": [
        "Splitting Data into Train/Test\n"
      ],
      "metadata": {
        "id": "jWoOORtbJbD7"
      }
    },
    {
      "cell_type": "code",
      "source": [
        "X = df[['variance', 'skewness','curtosis','entropy']]\n",
        "y = df[['forgery']]"
      ],
      "metadata": {
        "id": "JBcmEIFFBCRo"
      },
      "execution_count": 36,
      "outputs": []
    },
    {
      "cell_type": "code",
      "source": [
        "X_train, X_test, y_train, y_test = train_test_split(X, y, test_size=.2, random_state=0)"
      ],
      "metadata": {
        "id": "K5YQDooCBh2W"
      },
      "execution_count": 37,
      "outputs": []
    },
    {
      "cell_type": "markdown",
      "source": [
        "Building the Pipeline\n"
      ],
      "metadata": {
        "id": "9jsgXKIIJhCo"
      }
    },
    {
      "cell_type": "code",
      "source": [
        "num_attribs = ['variance', 'skewness', 'curtosis','entropy']"
      ],
      "metadata": {
        "id": "_ecmx-TQBk3u"
      },
      "execution_count": 38,
      "outputs": []
    },
    {
      "cell_type": "code",
      "source": [
        "col_transform = ColumnTransformer(transformers=[\n",
        "    \n",
        "    ('num', MinMaxScaler(), num_attribs)],\n",
        "    remainder='passthrough'\n",
        ")"
      ],
      "metadata": {
        "id": "FBTAf-M6BqQb"
      },
      "execution_count": 39,
      "outputs": []
    },
    {
      "cell_type": "code",
      "source": [
        "pipeline = Pipeline([\n",
        "    ('transform', col_transform),\n",
        "    ('rf', RandomForestClassifier(n_estimators=1000, max_samples=1000,\n",
        "                                  bootstrap=True, oob_score=True, n_jobs=-1))\n",
        "    \n",
        "])"
      ],
      "metadata": {
        "id": "u7llhZRGBuXA"
      },
      "execution_count": 42,
      "outputs": []
    },
    {
      "cell_type": "markdown",
      "source": [
        "Executing the Model\n"
      ],
      "metadata": {
        "id": "xK4l2TIgJmEs"
      }
    },
    {
      "cell_type": "code",
      "source": [
        "pipeline.fit(X_train,np.ravel(y_train))"
      ],
      "metadata": {
        "colab": {
          "base_uri": "https://localhost:8080/",
          "height": 191
        },
        "id": "zdmp4-PeDMNZ",
        "outputId": "2de27355-7a7c-4dd3-c11c-4f1844ccc697"
      },
      "execution_count": 43,
      "outputs": [
        {
          "output_type": "execute_result",
          "data": {
            "text/plain": [
              "Pipeline(steps=[('transform',\n",
              "                 ColumnTransformer(remainder='passthrough',\n",
              "                                   transformers=[('num', MinMaxScaler(),\n",
              "                                                  ['variance', 'skewness',\n",
              "                                                   'curtosis', 'entropy'])])),\n",
              "                ('rf',\n",
              "                 RandomForestClassifier(max_samples=1000, n_estimators=1000,\n",
              "                                        n_jobs=-1, oob_score=True))])"
            ],
            "text/html": [
              "<style>#sk-container-id-3 {color: black;background-color: white;}#sk-container-id-3 pre{padding: 0;}#sk-container-id-3 div.sk-toggleable {background-color: white;}#sk-container-id-3 label.sk-toggleable__label {cursor: pointer;display: block;width: 100%;margin-bottom: 0;padding: 0.3em;box-sizing: border-box;text-align: center;}#sk-container-id-3 label.sk-toggleable__label-arrow:before {content: \"▸\";float: left;margin-right: 0.25em;color: #696969;}#sk-container-id-3 label.sk-toggleable__label-arrow:hover:before {color: black;}#sk-container-id-3 div.sk-estimator:hover label.sk-toggleable__label-arrow:before {color: black;}#sk-container-id-3 div.sk-toggleable__content {max-height: 0;max-width: 0;overflow: hidden;text-align: left;background-color: #f0f8ff;}#sk-container-id-3 div.sk-toggleable__content pre {margin: 0.2em;color: black;border-radius: 0.25em;background-color: #f0f8ff;}#sk-container-id-3 input.sk-toggleable__control:checked~div.sk-toggleable__content {max-height: 200px;max-width: 100%;overflow: auto;}#sk-container-id-3 input.sk-toggleable__control:checked~label.sk-toggleable__label-arrow:before {content: \"▾\";}#sk-container-id-3 div.sk-estimator input.sk-toggleable__control:checked~label.sk-toggleable__label {background-color: #d4ebff;}#sk-container-id-3 div.sk-label input.sk-toggleable__control:checked~label.sk-toggleable__label {background-color: #d4ebff;}#sk-container-id-3 input.sk-hidden--visually {border: 0;clip: rect(1px 1px 1px 1px);clip: rect(1px, 1px, 1px, 1px);height: 1px;margin: -1px;overflow: hidden;padding: 0;position: absolute;width: 1px;}#sk-container-id-3 div.sk-estimator {font-family: monospace;background-color: #f0f8ff;border: 1px dotted black;border-radius: 0.25em;box-sizing: border-box;margin-bottom: 0.5em;}#sk-container-id-3 div.sk-estimator:hover {background-color: #d4ebff;}#sk-container-id-3 div.sk-parallel-item::after {content: \"\";width: 100%;border-bottom: 1px solid gray;flex-grow: 1;}#sk-container-id-3 div.sk-label:hover label.sk-toggleable__label {background-color: #d4ebff;}#sk-container-id-3 div.sk-serial::before {content: \"\";position: absolute;border-left: 1px solid gray;box-sizing: border-box;top: 0;bottom: 0;left: 50%;z-index: 0;}#sk-container-id-3 div.sk-serial {display: flex;flex-direction: column;align-items: center;background-color: white;padding-right: 0.2em;padding-left: 0.2em;position: relative;}#sk-container-id-3 div.sk-item {position: relative;z-index: 1;}#sk-container-id-3 div.sk-parallel {display: flex;align-items: stretch;justify-content: center;background-color: white;position: relative;}#sk-container-id-3 div.sk-item::before, #sk-container-id-3 div.sk-parallel-item::before {content: \"\";position: absolute;border-left: 1px solid gray;box-sizing: border-box;top: 0;bottom: 0;left: 50%;z-index: -1;}#sk-container-id-3 div.sk-parallel-item {display: flex;flex-direction: column;z-index: 1;position: relative;background-color: white;}#sk-container-id-3 div.sk-parallel-item:first-child::after {align-self: flex-end;width: 50%;}#sk-container-id-3 div.sk-parallel-item:last-child::after {align-self: flex-start;width: 50%;}#sk-container-id-3 div.sk-parallel-item:only-child::after {width: 0;}#sk-container-id-3 div.sk-dashed-wrapped {border: 1px dashed gray;margin: 0 0.4em 0.5em 0.4em;box-sizing: border-box;padding-bottom: 0.4em;background-color: white;}#sk-container-id-3 div.sk-label label {font-family: monospace;font-weight: bold;display: inline-block;line-height: 1.2em;}#sk-container-id-3 div.sk-label-container {text-align: center;}#sk-container-id-3 div.sk-container {/* jupyter's `normalize.less` sets `[hidden] { display: none; }` but bootstrap.min.css set `[hidden] { display: none !important; }` so we also need the `!important` here to be able to override the default hidden behavior on the sphinx rendered scikit-learn.org. See: https://github.com/scikit-learn/scikit-learn/issues/21755 */display: inline-block !important;position: relative;}#sk-container-id-3 div.sk-text-repr-fallback {display: none;}</style><div id=\"sk-container-id-3\" class=\"sk-top-container\"><div class=\"sk-text-repr-fallback\"><pre>Pipeline(steps=[(&#x27;transform&#x27;,\n",
              "                 ColumnTransformer(remainder=&#x27;passthrough&#x27;,\n",
              "                                   transformers=[(&#x27;num&#x27;, MinMaxScaler(),\n",
              "                                                  [&#x27;variance&#x27;, &#x27;skewness&#x27;,\n",
              "                                                   &#x27;curtosis&#x27;, &#x27;entropy&#x27;])])),\n",
              "                (&#x27;rf&#x27;,\n",
              "                 RandomForestClassifier(max_samples=1000, n_estimators=1000,\n",
              "                                        n_jobs=-1, oob_score=True))])</pre><b>In a Jupyter environment, please rerun this cell to show the HTML representation or trust the notebook. <br />On GitHub, the HTML representation is unable to render, please try loading this page with nbviewer.org.</b></div><div class=\"sk-container\" hidden><div class=\"sk-item sk-dashed-wrapped\"><div class=\"sk-label-container\"><div class=\"sk-label sk-toggleable\"><input class=\"sk-toggleable__control sk-hidden--visually\" id=\"sk-estimator-id-17\" type=\"checkbox\" ><label for=\"sk-estimator-id-17\" class=\"sk-toggleable__label sk-toggleable__label-arrow\">Pipeline</label><div class=\"sk-toggleable__content\"><pre>Pipeline(steps=[(&#x27;transform&#x27;,\n",
              "                 ColumnTransformer(remainder=&#x27;passthrough&#x27;,\n",
              "                                   transformers=[(&#x27;num&#x27;, MinMaxScaler(),\n",
              "                                                  [&#x27;variance&#x27;, &#x27;skewness&#x27;,\n",
              "                                                   &#x27;curtosis&#x27;, &#x27;entropy&#x27;])])),\n",
              "                (&#x27;rf&#x27;,\n",
              "                 RandomForestClassifier(max_samples=1000, n_estimators=1000,\n",
              "                                        n_jobs=-1, oob_score=True))])</pre></div></div></div><div class=\"sk-serial\"><div class=\"sk-item sk-dashed-wrapped\"><div class=\"sk-label-container\"><div class=\"sk-label sk-toggleable\"><input class=\"sk-toggleable__control sk-hidden--visually\" id=\"sk-estimator-id-18\" type=\"checkbox\" ><label for=\"sk-estimator-id-18\" class=\"sk-toggleable__label sk-toggleable__label-arrow\">transform: ColumnTransformer</label><div class=\"sk-toggleable__content\"><pre>ColumnTransformer(remainder=&#x27;passthrough&#x27;,\n",
              "                  transformers=[(&#x27;num&#x27;, MinMaxScaler(),\n",
              "                                 [&#x27;variance&#x27;, &#x27;skewness&#x27;, &#x27;curtosis&#x27;,\n",
              "                                  &#x27;entropy&#x27;])])</pre></div></div></div><div class=\"sk-parallel\"><div class=\"sk-parallel-item\"><div class=\"sk-item\"><div class=\"sk-label-container\"><div class=\"sk-label sk-toggleable\"><input class=\"sk-toggleable__control sk-hidden--visually\" id=\"sk-estimator-id-19\" type=\"checkbox\" ><label for=\"sk-estimator-id-19\" class=\"sk-toggleable__label sk-toggleable__label-arrow\">num</label><div class=\"sk-toggleable__content\"><pre>[&#x27;variance&#x27;, &#x27;skewness&#x27;, &#x27;curtosis&#x27;, &#x27;entropy&#x27;]</pre></div></div></div><div class=\"sk-serial\"><div class=\"sk-item\"><div class=\"sk-estimator sk-toggleable\"><input class=\"sk-toggleable__control sk-hidden--visually\" id=\"sk-estimator-id-20\" type=\"checkbox\" ><label for=\"sk-estimator-id-20\" class=\"sk-toggleable__label sk-toggleable__label-arrow\">MinMaxScaler</label><div class=\"sk-toggleable__content\"><pre>MinMaxScaler()</pre></div></div></div></div></div></div><div class=\"sk-parallel-item\"><div class=\"sk-item\"><div class=\"sk-label-container\"><div class=\"sk-label sk-toggleable\"><input class=\"sk-toggleable__control sk-hidden--visually\" id=\"sk-estimator-id-21\" type=\"checkbox\" ><label for=\"sk-estimator-id-21\" class=\"sk-toggleable__label sk-toggleable__label-arrow\">remainder</label><div class=\"sk-toggleable__content\"><pre>[]</pre></div></div></div><div class=\"sk-serial\"><div class=\"sk-item\"><div class=\"sk-estimator sk-toggleable\"><input class=\"sk-toggleable__control sk-hidden--visually\" id=\"sk-estimator-id-22\" type=\"checkbox\" ><label for=\"sk-estimator-id-22\" class=\"sk-toggleable__label sk-toggleable__label-arrow\">passthrough</label><div class=\"sk-toggleable__content\"><pre>passthrough</pre></div></div></div></div></div></div></div></div><div class=\"sk-item\"><div class=\"sk-estimator sk-toggleable\"><input class=\"sk-toggleable__control sk-hidden--visually\" id=\"sk-estimator-id-23\" type=\"checkbox\" ><label for=\"sk-estimator-id-23\" class=\"sk-toggleable__label sk-toggleable__label-arrow\">RandomForestClassifier</label><div class=\"sk-toggleable__content\"><pre>RandomForestClassifier(max_samples=1000, n_estimators=1000, n_jobs=-1,\n",
              "                       oob_score=True)</pre></div></div></div></div></div></div></div>"
            ]
          },
          "metadata": {},
          "execution_count": 43
        }
      ]
    },
    {
      "cell_type": "markdown",
      "source": [
        "Evaluating Model\n"
      ],
      "metadata": {
        "id": "_md3_xdXJp6D"
      }
    },
    {
      "cell_type": "code",
      "source": [
        "y_pred = pipeline.predict(X_test)"
      ],
      "metadata": {
        "id": "LE5Hl67ADbmy"
      },
      "execution_count": 45,
      "outputs": []
    },
    {
      "cell_type": "code",
      "source": [
        "print(classification_report(y_test, y_pred))"
      ],
      "metadata": {
        "colab": {
          "base_uri": "https://localhost:8080/"
        },
        "id": "ZRX6vZgwDkyO",
        "outputId": "deebf5af-6954-4fbe-a2cf-6e714d75dab9"
      },
      "execution_count": 46,
      "outputs": [
        {
          "output_type": "stream",
          "name": "stdout",
          "text": [
            "              precision    recall  f1-score   support\n",
            "\n",
            "           0       0.99      0.99      0.99       157\n",
            "           1       0.98      0.98      0.98       118\n",
            "\n",
            "    accuracy                           0.99       275\n",
            "   macro avg       0.99      0.99      0.99       275\n",
            "weighted avg       0.99      0.99      0.99       275\n",
            "\n"
          ]
        }
      ]
    },
    {
      "cell_type": "code",
      "source": [
        "cm = confusion_matrix(y_test, y_pred)\n",
        "disp = ConfusionMatrixDisplay(confusion_matrix=cm)\n",
        "\n",
        "fig, ax = plt.subplots(figsize=(10,10))\n",
        "disp.plot(ax=ax,cmap=\"YlOrRd\")"
      ],
      "metadata": {
        "colab": {
          "base_uri": "https://localhost:8080/",
          "height": 824
        },
        "id": "6Uzvi_-JDwG9",
        "outputId": "cea3152b-7bf9-4ae5-c68b-9f80ec676254"
      },
      "execution_count": 47,
      "outputs": [
        {
          "output_type": "execute_result",
          "data": {
            "text/plain": [
              "<sklearn.metrics._plot.confusion_matrix.ConfusionMatrixDisplay at 0x7fae7f7e4b80>"
            ]
          },
          "metadata": {},
          "execution_count": 47
        },
        {
          "output_type": "display_data",
          "data": {
            "text/plain": [
              "<Figure size 1000x1000 with 2 Axes>"
            ],
            "image/png": "[encoded data removed]"
          },
          "metadata": {}
        }
      ]
    },
    {
      "cell_type": "markdown",
      "source": [
        "Conclusion\n"
      ],
      "metadata": {
        "id": "BqSs_UYXJuWi"
      }
    },
    {
      "cell_type": "markdown",
      "source": [
        "The model has an overall accuracy of 88% of 99% which is extremely good. The overall f1 score for a 0 is 99% and for a 1 is 98%.\n"
      ],
      "metadata": {
        "id": "ibvZ-U-aJwYg"
      }
    }
  ]
}